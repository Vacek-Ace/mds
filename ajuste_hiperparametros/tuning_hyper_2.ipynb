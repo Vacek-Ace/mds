{
 "cells": [
  {
   "cell_type": "markdown",
   "metadata": {},
   "source": [
    "# Optimización de hiperparámetros: tune-sklearn"
   ]
  },
  {
   "cell_type": "markdown",
   "metadata": {},
   "source": [
    "[Tune-sklearn](https://github.com/ray-project/tune-sklearn) es un sustituto del módulo de selección de modelos de Scikit-Learn (GridSearchCV, RandomizedSearchCV) con técnicas de ajuste de hiperparámetros de última generación.\n",
    "\n",
    "pip install tune-sklearn ray[tune]"
   ]
  },
  {
   "cell_type": "code",
   "execution_count": 1,
   "metadata": {},
   "outputs": [],
   "source": [
    "from sklearn.ensemble import RandomForestClassifier\n",
    "from sklearn.model_selection import train_test_split\n",
    "from sklearn.decomposition import PCA\n",
    "from sklearn import datasets\n",
    "from sklearn.metrics import accuracy_score\n",
    "\n",
    "from tune_sklearn import TuneSearchCV\n",
    "\n",
    "from mlxtend.plotting import plot_decision_regions\n",
    "\n",
    "import warnings\n",
    "warnings.filterwarnings('ignore')"
   ]
  },
  {
   "cell_type": "code",
   "execution_count": 2,
   "metadata": {},
   "outputs": [],
   "source": [
    "iris = datasets.load_iris()\n",
    "\n",
    "\n",
    "X = iris.data\n",
    "y = iris.target\n",
    "    \n",
    "X_train, X_test, y_train, y_test = train_test_split(\n",
    "    X, y, test_size=0.20, random_state=1234)"
   ]
  },
  {
   "cell_type": "code",
   "execution_count": 3,
   "metadata": {},
   "outputs": [],
   "source": [
    "param_dists = {\n",
    "   'max_depth':list(range(1,20)),\n",
    "    'max_features': list(range(1,5)),\n",
    "    'n_estimators': list(range(1,20)),\n",
    "    'criterion': [\"gini\", \"entropy\"]\n",
    "}"
   ]
  },
  {
   "cell_type": "markdown",
   "metadata": {},
   "source": [
    "## Random Search"
   ]
  },
  {
   "cell_type": "code",
   "execution_count": 4,
   "metadata": {},
   "outputs": [
    {
     "name": "stdout",
     "output_type": "stream",
     "text": [
      "Best score: 0.9583333333333333 \n",
      "Best parameters: {'max_depth': 8, 'max_features': 2, 'n_estimators': 15, 'criterion': 'gini'}\n"
     ]
    }
   ],
   "source": [
    "tune_search = TuneSearchCV(RandomForestClassifier(),\n",
    "    param_distributions=param_dists,\n",
    "    n_trials=10,\n",
    "    scoring='accuracy',\n",
    "    search_optimization=\"random\",\n",
    "    random_state=1234,\n",
    "    cv=5,\n",
    "    n_jobs=-1,\n",
    "    use_gpu=True\n",
    ")\n",
    "\n",
    "tune_search.fit(X_train, y_train)\n",
    "print(f'Best score: {tune_search.best_score_}', f'\\nBest parameters: {tune_search.best_params_}') "
   ]
  },
  {
   "cell_type": "code",
   "execution_count": 5,
   "metadata": {},
   "outputs": [
    {
     "data": {
      "text/plain": [
       "1.0"
      ]
     },
     "execution_count": 5,
     "metadata": {},
     "output_type": "execute_result"
    }
   ],
   "source": [
    "pred = tune_search.predict(X_test)\n",
    "accuracy_score(y_test, pred)"
   ]
  },
  {
   "cell_type": "code",
   "execution_count": 6,
   "metadata": {},
   "outputs": [
    {
     "data": {
      "image/png": "[encoded data removed]",
      "text/plain": [
       "<Figure size 432x288 with 1 Axes>"
      ]
     },
     "metadata": {
      "needs_background": "light"
     },
     "output_type": "display_data"
    }
   ],
   "source": [
    "pca = PCA(n_components=2)\n",
    "principalComponents = pca.fit_transform(X_train)\n",
    "\n",
    "best_params = tune_search.best_params_\n",
    "best_params['max_features']=2\n",
    "\n",
    "clf = RandomForestClassifier(**best_params)\n",
    "clf.fit(principalComponents,y_train)\n",
    "\n",
    "plot_decision_regions(X=principalComponents, y=y_train, clf=clf);"
   ]
  },
  {
   "cell_type": "markdown",
   "metadata": {},
   "source": [
    "## Hyperopt: HyperOptSearch"
   ]
  },
  {
   "cell_type": "markdown",
   "metadata": {},
   "source": [
    "[Hyperopt](https://github.com/hyperopt/hyperopt) es una biblioteca de Python para la optimización en serie y en paralelo sobre espacios de búsqueda complicados, que pueden incluir dimensiones de numéricas reales, discretas y condicionales.\n",
    "\n",
    "pip install hyperopt"
   ]
  },
  {
   "cell_type": "code",
   "execution_count": 7,
   "metadata": {},
   "outputs": [
    {
     "name": "stdout",
     "output_type": "stream",
     "text": [
      "Best score: 0.95 \n",
      "Best parameters: {'criterion': 'gini', 'max_depth': 10, 'max_features': 4, 'n_estimators': 14}\n"
     ]
    }
   ],
   "source": [
    "tune_search = TuneSearchCV(RandomForestClassifier(),\n",
    "    param_distributions=param_dists,\n",
    "    n_trials=10,\n",
    "    scoring='accuracy',\n",
    "    search_optimization=\"hyperopt\",\n",
    "    random_state=1234,\n",
    "    cv=5,\n",
    "    n_jobs=-1,\n",
    "    use_gpu=True\n",
    ")\n",
    "\n",
    "tune_search.fit(X_train, y_train)\n",
    "print(f'Best score: {tune_search.best_score_}', f'\\nBest parameters: {tune_search.best_params_}') "
   ]
  },
  {
   "cell_type": "code",
   "execution_count": 8,
   "metadata": {},
   "outputs": [
    {
     "data": {
      "text/plain": [
       "1.0"
      ]
     },
     "execution_count": 8,
     "metadata": {},
     "output_type": "execute_result"
    }
   ],
   "source": [
    "pred = tune_search.predict(X_test)\n",
    "accuracy_score(y_test, pred)"
   ]
  },
  {
   "cell_type": "code",
   "execution_count": 9,
   "metadata": {},
   "outputs": [
    {
     "data": {
      "image/png": "[encoded data removed]",
      "text/plain": [
       "<Figure size 432x288 with 1 Axes>"
      ]
     },
     "metadata": {
      "needs_background": "light"
     },
     "output_type": "display_data"
    }
   ],
   "source": [
    "pca = PCA(n_components=2)\n",
    "principalComponents = pca.fit_transform(X_train)\n",
    "\n",
    "best_params = tune_search.best_params_\n",
    "best_params['max_features']=2\n",
    "\n",
    "clf = RandomForestClassifier(**tune_search.best_params_)\n",
    "clf.fit(principalComponents,y_train)\n",
    "\n",
    "plot_decision_regions(X=principalComponents, y=y_train, clf=clf);"
   ]
  },
  {
   "cell_type": "markdown",
   "metadata": {},
   "source": [
    "## Scikit-Optimize: SkoptSearch"
   ]
  },
  {
   "cell_type": "markdown",
   "metadata": {},
   "source": [
    "[Scikit-Optimize](https://github.com/scikit-optimize/scikit-optimize), o skopt, es una biblioteca simple y eficiente para minimizar funciones de caja negra (muy) costosas y ruidosas. Implementa varios métodos para la optimización secuencial basada en modelos. skopt pretende ser accesible y fácil de usar en muchos contextos.\n",
    "\n",
    "La biblioteca está construida sobre NumPy, SciPy y Scikit-Learn.\n",
    "\n",
    "pip install scikit-optimize"
   ]
  },
  {
   "cell_type": "code",
   "execution_count": 10,
   "metadata": {},
   "outputs": [
    {
     "name": "stderr",
     "output_type": "stream",
     "text": [
      "Trial Runner checkpointing failed: can't pickle dict_values objects\n",
      "Trial Runner checkpointing failed: can't pickle dict_values objects\n"
     ]
    },
    {
     "name": "stdout",
     "output_type": "stream",
     "text": [
      "Best score: 0.9583333333333334 \n",
      "Best parameters: {'max_depth': 7, 'max_features': 3, 'n_estimators': 3, 'criterion': 'entropy'}\n"
     ]
    }
   ],
   "source": [
    "tune_search = TuneSearchCV(RandomForestClassifier(),\n",
    "    param_distributions=param_dists,\n",
    "    n_trials=10,\n",
    "    scoring='accuracy',\n",
    "    search_optimization=\"bayesian\",\n",
    "    random_state=1234,\n",
    "    cv=5,\n",
    "    n_jobs=-1,\n",
    "    use_gpu=True\n",
    ")\n",
    "\n",
    "tune_search.fit(X_train, y_train)\n",
    "print(f'Best score: {tune_search.best_score_}', f'\\nBest parameters: {tune_search.best_params_}') "
   ]
  },
  {
   "cell_type": "code",
   "execution_count": 11,
   "metadata": {},
   "outputs": [
    {
     "data": {
      "text/plain": [
       "1.0"
      ]
     },
     "execution_count": 11,
     "metadata": {},
     "output_type": "execute_result"
    }
   ],
   "source": [
    "pred = tune_search.predict(X_test)\n",
    "accuracy_score(y_test, pred)"
   ]
  },
  {
   "cell_type": "code",
   "execution_count": 12,
   "metadata": {},
   "outputs": [
    {
     "data": {
      "image/png": "[encoded data removed]",
      "text/plain": [
       "<Figure size 432x288 with 1 Axes>"
      ]
     },
     "metadata": {
      "needs_background": "light"
     },
     "output_type": "display_data"
    }
   ],
   "source": [
    "pca = PCA(n_components=2)\n",
    "principalComponents = pca.fit_transform(X_train)\n",
    "\n",
    "best_params = tune_search.best_params_\n",
    "best_params['max_features']=2\n",
    "\n",
    "clf = RandomForestClassifier(**best_params)\n",
    "clf.fit(principalComponents,y_train)\n",
    "\n",
    "plot_decision_regions(X=principalComponents, y=y_train, clf=clf);"
   ]
  },
  {
   "cell_type": "markdown",
   "metadata": {},
   "source": [
    "## Optuna: Optuna"
   ]
  },
  {
   "cell_type": "markdown",
   "metadata": {},
   "source": [
    "[Optuna](https://github.com/optuna/optuna) es un marco de software de optimización automática de hiperparámetros, especialmente diseñado para el aprendizaje automático. Cuenta con una API de usuario de estilo imperativo, define-by-run. Gracias a su define-by-run API, el código escrito con Optuna goza de una gran modularidad, y el usuario de Optuna puede construir dinámicamente los espacios de búsqueda para los hiperparámetros.\n",
    "\n",
    "pip install optuna"
   ]
  },
  {
   "cell_type": "code",
   "execution_count": 13,
   "metadata": {},
   "outputs": [
    {
     "name": "stderr",
     "output_type": "stream",
     "text": [
      "\u001b[32m[I 2021-02-22 14:33:44,512]\u001b[0m A new study created in memory with name: optuna\u001b[0m\n"
     ]
    },
    {
     "name": "stdout",
     "output_type": "stream",
     "text": [
      "Best score: 0.9583333333333333 \n",
      "Best parameters: {'max_depth': 3, 'max_features': 4, 'n_estimators': 13, 'criterion': 'entropy'}\n"
     ]
    }
   ],
   "source": [
    "tune_search = TuneSearchCV(RandomForestClassifier(),\n",
    "    param_distributions=param_dists,\n",
    "    n_trials=10,\n",
    "    scoring='accuracy',\n",
    "    search_optimization=\"optuna\",\n",
    "    random_state=1234,\n",
    "    cv=5,\n",
    "    n_jobs=-1,\n",
    "    use_gpu=True\n",
    ")\n",
    "\n",
    "tune_search.fit(X_train, y_train)\n",
    "print(f'Best score: {tune_search.best_score_}', f'\\nBest parameters: {tune_search.best_params_}') "
   ]
  },
  {
   "cell_type": "code",
   "execution_count": 14,
   "metadata": {},
   "outputs": [
    {
     "data": {
      "text/plain": [
       "1.0"
      ]
     },
     "execution_count": 14,
     "metadata": {},
     "output_type": "execute_result"
    }
   ],
   "source": [
    "pred = tune_search.predict(X_test)\n",
    "accuracy_score(y_test, pred)"
   ]
  },
  {
   "cell_type": "code",
   "execution_count": 15,
   "metadata": {},
   "outputs": [
    {
     "data": {
      "image/png": "[encoded data removed]",
      "text/plain": [
       "<Figure size 432x288 with 1 Axes>"
      ]
     },
     "metadata": {
      "needs_background": "light"
     },
     "output_type": "display_data"
    }
   ],
   "source": [
    "pca = PCA(n_components=2)\n",
    "principalComponents = pca.fit_transform(X_train)\n",
    "\n",
    "best_params = tune_search.best_params_\n",
    "best_params['max_features']=2\n",
    "\n",
    "clf = RandomForestClassifier(**best_params)\n",
    "clf.fit(principalComponents,y_train)\n",
    "\n",
    "plot_decision_regions(X=principalComponents, y=y_train, clf=clf);"
   ]
  },
  {
   "cell_type": "markdown",
   "metadata": {},
   "source": [
    "## Métricas de evaluación personalizadas"
   ]
  },
  {
   "cell_type": "markdown",
   "metadata": {},
   "source": [
    "En ocasiones las métricas dsiponibles para evaluar la calidad predictiva de un modelo de Machine Learning no son las adecuadas. Para ello podemos utilizar la función make_scorer y crear un scorer válido de scikit-learn desde cualquier métrica o función de perdida que decidamos utilizar, existente en scikit learn o creada por nosotros."
   ]
  },
  {
   "cell_type": "code",
   "execution_count": 16,
   "metadata": {},
   "outputs": [],
   "source": [
    "from sklearn.metrics import make_scorer, matthews_corrcoef\n",
    "import numpy as np"
   ]
  },
  {
   "cell_type": "code",
   "execution_count": 17,
   "metadata": {},
   "outputs": [],
   "source": [
    "# Desde una métrica existente\n",
    "mcc = make_scorer(matthews_corrcoef)"
   ]
  },
  {
   "cell_type": "code",
   "execution_count": 18,
   "metadata": {},
   "outputs": [
    {
     "name": "stderr",
     "output_type": "stream",
     "text": [
      "Trial Runner checkpointing failed: can't pickle dict_values objects\n",
      "Trial Runner checkpointing failed: can't pickle dict_values objects\n"
     ]
    },
    {
     "name": "stdout",
     "output_type": "stream",
     "text": [
      "Best score: 0.928474324772397 \n",
      "Best parameters: {'max_depth': 14, 'max_features': 4, 'n_estimators': 19, 'criterion': 'entropy'}\n"
     ]
    }
   ],
   "source": [
    "tune_search = TuneSearchCV(RandomForestClassifier(),\n",
    "    param_distributions=param_dists,\n",
    "    n_trials=10,\n",
    "    scoring=mcc,\n",
    "    search_optimization=\"bayesian\",\n",
    "    random_state=1234,\n",
    "    cv=5\n",
    ")\n",
    "\n",
    "tune_search.fit(X_train, y_train)\n",
    "print(f'Best score: {tune_search.best_score_}', f'\\nBest parameters: {tune_search.best_params_}') "
   ]
  },
  {
   "cell_type": "code",
   "execution_count": 19,
   "metadata": {},
   "outputs": [
    {
     "data": {
      "text/plain": [
       "1.0"
      ]
     },
     "execution_count": 19,
     "metadata": {},
     "output_type": "execute_result"
    }
   ],
   "source": [
    "pred = tune_search.predict(X_test)\n",
    "accuracy_score(y_test, pred)"
   ]
  },
  {
   "cell_type": "code",
   "execution_count": 20,
   "metadata": {},
   "outputs": [
    {
     "data": {
      "image/png": "[encoded data removed]",
      "text/plain": [
       "<Figure size 432x288 with 1 Axes>"
      ]
     },
     "metadata": {
      "needs_background": "light"
     },
     "output_type": "display_data"
    }
   ],
   "source": [
    "pca = PCA(n_components=2)\n",
    "principalComponents = pca.fit_transform(X_train)\n",
    "\n",
    "best_params = tune_search.best_params_\n",
    "best_params['max_features']=2\n",
    "\n",
    "clf = RandomForestClassifier(**best_params)\n",
    "clf.fit(principalComponents,y_train)\n",
    "\n",
    "plot_decision_regions(X=principalComponents, y=y_train, clf=clf);"
   ]
  },
  {
   "cell_type": "code",
   "execution_count": 21,
   "metadata": {},
   "outputs": [],
   "source": [
    "# Desde una métrica definida por nosotros\n",
    "def my_eval_metric(y_true, y_pred):\n",
    "    return np.sum((y_true == y_pred))/len(y_true)\n",
    "\n",
    "mem = make_scorer(my_eval_metric)"
   ]
  },
  {
   "cell_type": "code",
   "execution_count": 22,
   "metadata": {},
   "outputs": [
    {
     "name": "stderr",
     "output_type": "stream",
     "text": [
      "Trial Runner checkpointing failed: can't pickle dict_values objects\n",
      "Trial Runner checkpointing failed: can't pickle dict_values objects\n"
     ]
    },
    {
     "name": "stdout",
     "output_type": "stream",
     "text": [
      "Best score: 0.95 \n",
      "Best parameters: {'max_depth': 10, 'max_features': 3, 'n_estimators': 12, 'criterion': 'gini'}\n"
     ]
    }
   ],
   "source": [
    "tune_search = TuneSearchCV(RandomForestClassifier(),\n",
    "    param_distributions=param_dists,\n",
    "    n_trials=10,\n",
    "    scoring=mem,\n",
    "    search_optimization=\"bayesian\",\n",
    "    random_state=1234,\n",
    "    cv=5\n",
    ")\n",
    "\n",
    "tune_search.fit(X_train, y_train)\n",
    "print(f'Best score: {tune_search.best_score_}', f'\\nBest parameters: {tune_search.best_params_}') "
   ]
  },
  {
   "cell_type": "code",
   "execution_count": 23,
   "metadata": {},
   "outputs": [
    {
     "data": {
      "text/plain": [
       "1.0"
      ]
     },
     "execution_count": 23,
     "metadata": {},
     "output_type": "execute_result"
    }
   ],
   "source": [
    "pred = tune_search.predict(X_test)\n",
    "accuracy_score(y_test, pred)"
   ]
  },
  {
   "cell_type": "code",
   "execution_count": 24,
   "metadata": {},
   "outputs": [
    {
     "data": {
      "image/png": "[encoded data removed]",
      "text/plain": [
       "<Figure size 432x288 with 1 Axes>"
      ]
     },
     "metadata": {
      "needs_background": "light"
     },
     "output_type": "display_data"
    }
   ],
   "source": [
    "pca = PCA(n_components=2)\n",
    "principalComponents = pca.fit_transform(X_train)\n",
    "\n",
    "best_params = tune_search.best_params_\n",
    "best_params['max_features']=2\n",
    "\n",
    "clf = RandomForestClassifier(**best_params)\n",
    "clf.fit(principalComponents,y_train)\n",
    "\n",
    "plot_decision_regions(X=principalComponents, y=y_train, clf=clf);"
   ]
  }
 ],
 "metadata": {
  "kernelspec": {
   "display_name": "Python [conda env:mds] *",
   "language": "python",
   "name": "conda-env-mds-py"
  },
  "language_info": {
   "codemirror_mode": {
    "name": "ipython",
    "version": 3
   },
   "file_extension": ".py",
   "mimetype": "text/x-python",
   "name": "python",
   "nbconvert_exporter": "python",
   "pygments_lexer": "ipython3",
   "version": "3.7.9"
  }
 },
 "nbformat": 4,
 "nbformat_minor": 4
}
